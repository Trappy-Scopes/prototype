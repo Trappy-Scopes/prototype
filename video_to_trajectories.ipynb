{
 "cells": [
  {
   "cell_type": "markdown",
   "id": "4f28cf74",
   "metadata": {},
   "source": [
    "# Videos to Trajectories\n",
    "\n",
    "Here we will cover the basics of particle tracking and the image analysis necessary for extracting the trajectories from the videos we recorded."
   ]
  },
  {
   "cell_type": "markdown",
   "id": "b648f63c",
   "metadata": {},
   "source": [
    "First we need to capture a video."
   ]
  },
  {
   "cell_type": "code",
   "execution_count": null,
   "id": "6d97166b",
   "metadata": {},
   "outputs": [],
   "source": [
    "# import libraries\n",
    "from time import sleep          # For timing operations - sleep\n",
    "from picamera import PiCamera   # For controlling the camera\n",
    "import matplotlib.pyplot as plt # Plotting library (also used for displaying images)\n"
   ]
  },
  {
   "cell_type": "code",
   "execution_count": null,
   "id": "fc5ee786",
   "metadata": {},
   "outputs": [],
   "source": [
    "# Create the camera object\n",
    "camera = PiCamera()\n",
    "\n",
    "# For better performance\n",
    "camera.resolution = (640, 480)\n",
    "camera.framerate = 10\n",
    "\n",
    "# Record some Algae!\n",
    "video_name = 'tracking_clammy.mjpeg'\n",
    "record_duration_s = 60*60                                   # Record for 1 hour\n",
    "camera.start_recording(video_name, format=\"mjpeg\")          # Start recording\n",
    "camera.wait_recording(record_duration_s)                    # Wait for while the camera records\n",
    "camera.stop_recording() "
   ]
  },
  {
   "cell_type": "code",
   "execution_count": null,
   "id": "73a75748",
   "metadata": {},
   "outputs": [],
   "source": [
    "# Play the video on vlc\n",
    "# You can vary the `mjpeg-fps` parameter top speed-up or slowdown the video.\n",
    "!vlc --demux=mjpeg --mjpeg-fps=5 {video_name}"
   ]
  },
  {
   "cell_type": "code",
   "execution_count": null,
   "id": "f17a268a",
   "metadata": {},
   "outputs": [],
   "source": [
    "# Import the video as an array.  Look at the shape of the array, can you recover the number of frames from the shape?"
   ]
  },
  {
   "cell_type": "code",
   "execution_count": null,
   "id": "b4d63860",
   "metadata": {},
   "outputs": [],
   "source": [
    "# We need to process the \"array\" of images before we run the tracking algorithm"
   ]
  },
  {
   "cell_type": "code",
   "execution_count": null,
   "id": "aaec4b30",
   "metadata": {},
   "outputs": [],
   "source": [
    "# What's changed ?"
   ]
  },
  {
   "cell_type": "code",
   "execution_count": null,
   "id": "1d1f02bc",
   "metadata": {},
   "outputs": [],
   "source": [
    "# Tracking begins...\n",
    "\n",
    "# Add trackpy code"
   ]
  },
  {
   "cell_type": "code",
   "execution_count": null,
   "id": "c3ab6e3d",
   "metadata": {},
   "outputs": [],
   "source": [
    "# Plot the trajectories"
   ]
  },
  {
   "cell_type": "code",
   "execution_count": null,
   "id": "48eea023",
   "metadata": {},
   "outputs": [],
   "source": [
    "# Filter trajectories based on some criteria"
   ]
  },
  {
   "cell_type": "code",
   "execution_count": null,
   "id": "89600318",
   "metadata": {},
   "outputs": [],
   "source": [
    "# Print the final trajectories with the first frame overlayed"
   ]
  },
  {
   "cell_type": "code",
   "execution_count": null,
   "id": "43278c02",
   "metadata": {},
   "outputs": [],
   "source": [
    "# Export the trajectories (which is a dataframe) to a file for further analysis"
   ]
  }
 ],
 "metadata": {
  "kernelspec": {
   "display_name": "swim",
   "language": "python",
   "name": "swim"
  },
  "language_info": {
   "codemirror_mode": {
    "name": "ipython",
    "version": 3
   },
   "file_extension": ".py",
   "mimetype": "text/x-python",
   "name": "python",
   "nbconvert_exporter": "python",
   "pygments_lexer": "ipython3",
   "version": "3.8.13"
  }
 },
 "nbformat": 4,
 "nbformat_minor": 5
}
