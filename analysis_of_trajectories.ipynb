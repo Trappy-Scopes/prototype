{
 "cells": [
  {
   "cell_type": "markdown",
   "id": "c483b3f8",
   "metadata": {},
   "source": [
    "# Analysis of Trajectories\n",
    "\n",
    "Trajectories --|math| --> Statistics"
   ]
  },
  {
   "cell_type": "code",
   "execution_count": 2,
   "id": "fd864a73",
   "metadata": {},
   "outputs": [],
   "source": [
    "# Importing the required libraries\n",
    "import matplotlib.pyplot as plt\n",
    "\n",
    "\n",
    "# The bread-and-butter of numerical computation aka statistics with python\n",
    "import pandas as pd\n",
    "import numpy as np\n"
   ]
  },
  {
   "cell_type": "code",
   "execution_count": null,
   "id": "12c481fc",
   "metadata": {},
   "outputs": [],
   "source": [
    "# We start with importing the pandas dataframe\n",
    "trajectory_file = None\n",
    "traj = pd.read_csv (trajectory_file)\n",
    "\n",
    "# View some of the data from the top (or the dataframe's head)\n",
    "traj.head()\n",
    "\n",
    "# Print some summary statistics\n",
    "traj.describe()"
   ]
  },
  {
   "cell_type": "markdown",
   "id": "160ae0a5",
   "metadata": {},
   "source": [
    "The dataframe contains several columns. Note the columns `frame` and `particle`. Each row represents a single feature in one frame for one particle. \n",
    "One frame is one photo and represents one ensamble.\n",
    "To get a single frame, we can `query` the dataframe as follows:\n"
   ]
  },
  {
   "cell_type": "markdown",
   "id": "37abb649",
   "metadata": {},
   "source": [
    "# "
   ]
  },
  {
   "cell_type": "code",
   "execution_count": null,
   "id": "688174ba",
   "metadata": {},
   "outputs": [],
   "source": [
    "# View a single frame\n",
    "frame_no = 4\n",
    "print(traj[traj.frame == frame_no])"
   ]
  },
  {
   "cell_type": "markdown",
   "id": "a5c85951",
   "metadata": {},
   "source": [
    "To get a particle trajectory instead, we can query for a particular particle. Please note that not all particle ids exist. Many of them have been filtered out in the last notebook."
   ]
  },
  {
   "cell_type": "code",
   "execution_count": null,
   "id": "1d9a8000",
   "metadata": {},
   "outputs": [],
   "source": [
    "part_no = 4\n",
    "eg_traj = traj[traj.particle == part_no]\n",
    "print(eg_traj)"
   ]
  },
  {
   "cell_type": "code",
   "execution_count": null,
   "id": "390194a2",
   "metadata": {},
   "outputs": [],
   "source": [
    "# Let'a see how it moves!\n",
    "plt.plot(eg_traj.x, eg_traj.y, title=f\"Trajectoryy of particle {part_no}\")"
   ]
  },
  {
   "cell_type": "markdown",
   "id": "5500b4e6",
   "metadata": {},
   "source": [
    "Now let's start with the analysis. We want to find the average speeds in x & y of all the particles and plot a 2D histogram (or a heatmap) wit it.\n",
    "\n",
    "## How to calculate the speeds?\n",
    "\n",
    "We already have the trajectories of the particles, which gives us the x. Speed is **distance / time**. So we will calculate the distance travelled from the trajectories and divide it by the total time. That gives us the average speed. Have a look at the function below. Our units are `pixels/frames`. Here `pixels` is a unit of distance and `frame`is a unit of time (given the `framerate` is fixed)."
   ]
  },
  {
   "cell_type": "code",
   "execution_count": null,
   "id": "336e2f95",
   "metadata": {},
   "outputs": [],
   "source": [
    "def avg_speed(df_part, framerate=None):\n",
    "    \n",
    "    # We calculate the time (or the total frames we have)\n",
    "    tot_frames = max(df_part.index) - min(df_part.index)\n",
    "    time = tot_frames\n",
    "    \n",
    "    # Extract x and y positions\n",
    "    xlist = np.array(df_part.x)\n",
    "    ylist = np.array(df_part.y)\n",
    "    \n",
    "    # Calculating displacement and distance arrays (plus a little array indicing to equalize the array sizes)\n",
    "    dispx = xlist[:-1] - xlist[1:] # x(sans last element) - x(sans first element)\n",
    "    dispy = ylist[:-1] - ylist[1:] # y(sans last element) - y(sans first element)\n",
    "    \n",
    "    # Displacement -> Distance array abs(-x) = x. \"Absolute value\" or \"mod\" operation\n",
    "    distx = abs(dispx)\n",
    "    disty = abs(dispy)\n",
    "    \n",
    "    tot_distx = sum(distx)\n",
    "    tot_disty = sum(disty)\n",
    "    \n",
    "    # Calculating the speed\n",
    "    speed_x = tot_distx / time\n",
    "    speed_y = tot_disty / time\n",
    "    \n",
    "    return (speed_x, speed_y)"
   ]
  },
  {
   "cell_type": "markdown",
   "id": "b656ea67",
   "metadata": {},
   "source": [
    "Now modify the above function to return the speeds in the units: `pixels/seconds` below:\n"
   ]
  },
  {
   "cell_type": "code",
   "execution_count": null,
   "id": "b1f7982f",
   "metadata": {},
   "outputs": [],
   "source": [
    "def avg_speed2():\n",
    "    pass"
   ]
  },
  {
   "cell_type": "code",
   "execution_count": null,
   "id": "f4598590",
   "metadata": {},
   "outputs": [],
   "source": [
    "# Now lets do the `avg_speed` operation for all the particles we have.\n",
    "\n",
    "speeds = list() # Create an empty list\n",
    "\n",
    "for i in range(max(traj.particle)):\n",
    "    df_per_particle = traj[traj.particle==i]\n",
    "    \n",
    "    if df_per_particle.empty:\n",
    "        #print(i, \"Particle doesn't exist!\")\n",
    "        pass # Ignore this particle number\n",
    "        \n",
    "    else:\n",
    "        # Calculate speeds and append to list\n",
    "        speeds.append(avg_speed(df_per_particle))\n",
    "        \n",
    "speeds # We now have a list of average speeds (vx, vy) for all available particles"
   ]
  },
  {
   "cell_type": "markdown",
   "id": "2dcb3df4",
   "metadata": {},
   "source": [
    "Now lets calculate the 2D histogram\n",
    "\n",
    "We need to restructure the datastructure for the next step. The list `speeds` has the following form:\n",
    "\n",
    "[(vx1, vy2), (vx2, vy2), (vx3, vy3), ...]\n",
    "\n",
    "For the 2D histogram, we need the following form:\n",
    "\n",
    "vx_list = [vx1, vx2, vx3, ...]\n",
    "\n",
    "vy_list = [vy1, vy2, vy3, ...]"
   ]
  },
  {
   "cell_type": "code",
   "execution_count": null,
   "id": "739d8aa8",
   "metadata": {},
   "outputs": [],
   "source": []
  }
 ],
 "metadata": {
  "kernelspec": {
   "display_name": "swim",
   "language": "python",
   "name": "swim"
  },
  "language_info": {
   "codemirror_mode": {
    "name": "ipython",
    "version": 3
   },
   "file_extension": ".py",
   "mimetype": "text/x-python",
   "name": "python",
   "nbconvert_exporter": "python",
   "pygments_lexer": "ipython3",
   "version": "3.8.13"
  }
 },
 "nbformat": 4,
 "nbformat_minor": 5
}
