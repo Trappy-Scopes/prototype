{
 "cells": [
  {
   "cell_type": "markdown",
   "id": "2a7bc9cb",
   "metadata": {},
   "source": [
    "# Camera Controls Basics\n",
    "\n",
    "1. Record an Image\n",
    "2. Record a sequence of images (time lapse)\n",
    "3. Record a video\n",
    "\n",
    "Note: If you see the following error, you need to free the camera resource using the command: `camera.close()`.\n",
    "\n",
    "```\n",
    "mmal: mmal_vc_component_enable: failed to enable component: ENOSPC\n",
    "mmal: camera component couldn't be enabled\n",
    "mmal: main: Failed to create camera component\n",
    "mmal: Failed to run camera app. Please check for firmware updates\n",
    "```"
   ]
  },
  {
   "cell_type": "code",
   "execution_count": 1,
   "id": "d070f77a",
   "metadata": {},
   "outputs": [],
   "source": [
    "# import libraries\n",
    "from time import sleep          # For timing operations - sleep\n",
    "from picamera import PiCamera   # For controlling the camera\n",
    "import matplotlib.pyplot as plt # Plotting library (also used for displaying images)\n"
   ]
  },
  {
   "cell_type": "code",
   "execution_count": 17,
   "id": "3ee39409",
   "metadata": {},
   "outputs": [
    {
     "name": "stdout",
     "output_type": "stream",
     "text": [
      "Camera object acquired!\n"
     ]
    }
   ],
   "source": [
    "# Create the camera object\n",
    "\n",
    "# camera.close()\n",
    "camera = PiCamera()\n",
    "camera.resolution = (1024, 768)\n",
    "print(\"Camera object acquired!\")"
   ]
  },
  {
   "cell_type": "code",
   "execution_count": 19,
   "id": "3de0e976",
   "metadata": {},
   "outputs": [],
   "source": [
    "# Capture an image and show it\n",
    "filename = \"test_image.jpeg\"\n",
    "camera.capture(filename)\n",
    "#plt.imshow(filename)"
   ]
  },
  {
   "cell_type": "code",
   "execution_count": 20,
   "id": "5e4c7c5c",
   "metadata": {},
   "outputs": [
    {
     "name": "stdout",
     "output_type": "stream",
     "text": [
      "['sequence_no0.jpeg', 'sequence_no1.jpeg', 'sequence_no2.jpeg', 'sequence_no3.jpeg', 'sequence_no4.jpeg', 'sequence_no5.jpeg', 'sequence_no6.jpeg', 'sequence_no7.jpeg', 'sequence_no8.jpeg', 'sequence_no9.jpeg']\n"
     ]
    }
   ],
   "source": [
    "# Generating a timelapse of 10 images - Part 1\n",
    "camera.framerate=30\n",
    "filename_list = [f'sequence_no{i}.jpeg' for i in range(10)] #Generating names for 10 images\n",
    "print(filename_list)"
   ]
  },
  {
   "cell_type": "code",
   "execution_count": 25,
   "id": "6cd6aea2",
   "metadata": {},
   "outputs": [
    {
     "name": "stdout",
     "output_type": "stream",
     "text": [
      "Captured: image01.jpg\n",
      "Captured: image02.jpg\n",
      "Captured: image03.jpg\n",
      "Captured: image04.jpg\n",
      "Captured: image05.jpg\n",
      "Captured: image06.jpg\n",
      "Captured: image07.jpg\n",
      "Captured: image08.jpg\n",
      "Captured: image09.jpg\n",
      "Captured: image10.jpg\n",
      "Captured: image11.jpg\n",
      "Captured: image12.jpg\n",
      "Captured: image13.jpg\n",
      "Captured: image14.jpg\n"
     ]
    },
    {
     "ename": "KeyboardInterrupt",
     "evalue": "",
     "output_type": "error",
     "traceback": [
      "\u001b[0;31m---------------------------------------------------------------------------\u001b[0m",
      "\u001b[0;31mKeyboardInterrupt\u001b[0m                         Traceback (most recent call last)",
      "\u001b[0;32m<ipython-input-25-160a696d9b19>\u001b[0m in \u001b[0;36m<module>\u001b[0;34m\u001b[0m\n\u001b[1;32m      3\u001b[0m \u001b[0;32mfor\u001b[0m \u001b[0mi\u001b[0m\u001b[0;34m,\u001b[0m \u001b[0mfilename\u001b[0m \u001b[0;32min\u001b[0m \u001b[0menumerate\u001b[0m\u001b[0;34m(\u001b[0m\u001b[0mcamera\u001b[0m\u001b[0;34m.\u001b[0m\u001b[0mcapture_continuous\u001b[0m\u001b[0;34m(\u001b[0m\u001b[0;34m'image{counter:02d}.jpg'\u001b[0m\u001b[0;34m)\u001b[0m\u001b[0;34m)\u001b[0m\u001b[0;34m:\u001b[0m\u001b[0;34m\u001b[0m\u001b[0;34m\u001b[0m\u001b[0m\n\u001b[1;32m      4\u001b[0m     \u001b[0mprint\u001b[0m\u001b[0;34m(\u001b[0m\u001b[0;34mf'Captured: {filename}'\u001b[0m\u001b[0;34m)\u001b[0m\u001b[0;34m\u001b[0m\u001b[0;34m\u001b[0m\u001b[0m\n\u001b[0;32m----> 5\u001b[0;31m     \u001b[0msleep\u001b[0m\u001b[0;34m(\u001b[0m\u001b[0;36m10\u001b[0m\u001b[0;34m)\u001b[0m \u001b[0;31m# wait 0.5 minutes\u001b[0m\u001b[0;34m\u001b[0m\u001b[0;34m\u001b[0m\u001b[0m\n\u001b[0m\u001b[1;32m      6\u001b[0m \u001b[0;34m\u001b[0m\u001b[0m\n\u001b[1;32m      7\u001b[0m \u001b[0;31m# Show 10 images\u001b[0m\u001b[0;34m\u001b[0m\u001b[0;34m\u001b[0m\u001b[0;34m\u001b[0m\u001b[0m\n",
      "\u001b[0;31mKeyboardInterrupt\u001b[0m: "
     ]
    }
   ],
   "source": [
    "# Generating a timelapse of 10 images - Part 2\n",
    "    #camera.capture_continuous('image{counter:02d}.jpg')):\n",
    "for i, filename in enumerate(camera.capture_continuous('image{counter:02d}.jpg')):\n",
    "    print(f'Captured: {filename}')\n",
    "    sleep(10) # wait 0.5 minutes\n",
    "          \n",
    "# Show 10 images\n",
    "fig, axarr = plt.subplots(2,2)\n",
    "\n",
    "# Plot first Row of 5 images\n",
    "for i in range(0, 5):\n",
    "    axarr[0,i].imshow(filename_list[i])\n",
    "\n",
    "# Plot 2nd Row of 5 images\n",
    "for i in range(5, 10):\n",
    "    axarr[1,i].imshow(filename_list[i])\n",
    "\n",
    "plt.show()\n",
    "\n",
    "# Quick and Dirty\n",
    "#for i in range(10):\n",
    "#    plt.imshow(filename_list[i])"
   ]
  },
  {
   "cell_type": "code",
   "execution_count": 26,
   "id": "5d8f3370",
   "metadata": {},
   "outputs": [],
   "source": [
    "# Record a video and preview it\n",
    "video_name = 'test_video.mjpeg'\n",
    "camera.resolution = (640, 480)                              # For better performance\n",
    "record_duration_s = 60                                      # Record for 60 seconds\n",
    "camera.start_recording(video_name, format=\"mjpeg\")          # Start recording\n",
    "camera.wait_recording(record_duration_s)                    # Wait for while the camera records\n",
    "camera.stop_recording()                                     # Stop the camera\n",
    "print(\"Recording finished!\")"
   ]
  },
  {
   "cell_type": "code",
   "execution_count": 27,
   "id": "bd4115a2",
   "metadata": {},
   "outputs": [
    {
     "name": "stdout",
     "output_type": "stream",
     "text": [
      "Recorded frames:1800\n"
     ]
    }
   ],
   "source": [
    "# How many frames have we recorded?\n",
    "no_frames = camera.framerate * record_duration_s\n",
    "print(f\"Recorded frames:{no_frames}\")"
   ]
  },
  {
   "cell_type": "code",
   "execution_count": 35,
   "id": "4a335c5a",
   "metadata": {},
   "outputs": [
    {
     "name": "stdout",
     "output_type": "stream",
     "text": [
      "VLC media player 3.0.17.4 Vetinari (revision 3.0.13-8-g41878ff4f2)\n",
      "[\u001b[32;1m00b0cb58\u001b[0m] main libvlc: \u001b[0;1mRunning vlc with the default interface. Use 'cvlc' to use vlc without interface.\u001b[0m\n",
      "qt5ct: using qt5ct plugin\n",
      "qt5ct: D-Bus global menu: no\n",
      "qt5ct: D-Bus system tray: no\n",
      "[\u001b[32;1ma23017e8\u001b[0m] mmal_codec decoder: \u001b[0;1mVCSM init succeeded: CMA\u001b[0m\n",
      "QObject::~QObject: Timers cannot be stopped from another thread\n"
     ]
    }
   ],
   "source": [
    "\n",
    "# Play the video on vlc\n",
    "# You can vary the `mjpeg-fps` parameter top speed-up or slowdown the video.\n",
    "!vlc --demux=mjpeg --mjpeg-fps=30 {video_name}"
   ]
  },
  {
   "cell_type": "code",
   "execution_count": 29,
   "id": "1a1742be",
   "metadata": {},
   "outputs": [],
   "source": [
    "# Good practice to release the resource when you are done.\n",
    "camera.close()"
   ]
  },
  {
   "cell_type": "code",
   "execution_count": null,
   "id": "21c3bd9b",
   "metadata": {},
   "outputs": [],
   "source": []
  }
 ],
 "metadata": {
  "kernelspec": {
   "display_name": "Python 3",
   "language": "python",
   "name": "python3"
  },
  "language_info": {
   "codemirror_mode": {
    "name": "ipython",
    "version": 3
   },
   "file_extension": ".py",
   "mimetype": "text/x-python",
   "name": "python",
   "nbconvert_exporter": "python",
   "pygments_lexer": "ipython3",
   "version": "3.7.3"
  }
 },
 "nbformat": 4,
 "nbformat_minor": 5
}
